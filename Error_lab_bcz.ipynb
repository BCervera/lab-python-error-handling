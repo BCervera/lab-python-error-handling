{
 "cells": [
  {
   "cell_type": "code",
   "execution_count": 1,
   "metadata": {},
   "outputs": [],
   "source": [
    "def initialize_inventory(products):\n",
    "    inventory = {}\n",
    "    for product in products:\n",
    "        valid_input = False\n",
    "        while not valid_input:\n",
    "            try:\n",
    "                quantity = int(input(f\"Enter the quantity of {product}s available: \"))\n",
    "                if quantity >= 0:\n",
    "                    inventory[product] = quantity\n",
    "                    valid_input = True\n",
    "                else:\n",
    "                    print(\"Quantity cannot be negative. Please enter a valid quantity.\")\n",
    "            except ValueError:\n",
    "                print(\"Invalid input. Please enter a valid quantity.\")\n",
    "    return inventory\n"
   ]
  },
  {
   "cell_type": "code",
   "execution_count": 2,
   "metadata": {},
   "outputs": [],
   "source": [
    "def get_valid_quantity(product):\n",
    "    while True:\n",
    "        try:\n",
    "            quantity = int(input(f\"Enter the quantity of {product}s available: \"))\n",
    "            if quantity >= 0:\n",
    "                return quantity\n",
    "            else:\n",
    "                print(\"Quantity cannot be negative. Please enter a valid quantity.\")\n",
    "        except ValueError:\n",
    "            print(\"Invalid input. Please enter a valid quantity.\")"
   ]
  },
  {
   "cell_type": "code",
   "execution_count": 3,
   "metadata": {},
   "outputs": [],
   "source": [
    "def initialize_inventory(products):\n",
    "    return {product: get_valid_quantity(product) for product in products}"
   ]
  },
  {
   "cell_type": "code",
   "execution_count": 4,
   "metadata": {},
   "outputs": [],
   "source": [
    "def get_valid_quantity(product):\n",
    "    while True:\n",
    "        user_input = input(f\"Enter the quantity of {product}s available (or type 'exit' to quit): \")\n",
    "        if user_input.lower() == 'exit':\n",
    "            print(\"Exiting...\")\n",
    "            return None\n",
    "        try:\n",
    "            quantity = int(user_input)\n",
    "            if quantity >= 0:\n",
    "                return quantity\n",
    "            else:\n",
    "                print(\"Quantity cannot be negative. Please enter a valid quantity.\")\n",
    "        except ValueError:\n",
    "            print(\"Invalid input. Please enter a valid quantity.\")"
   ]
  },
  {
   "cell_type": "code",
   "execution_count": 5,
   "metadata": {},
   "outputs": [],
   "source": [
    "def calculate_total_price(customer_orders):\n",
    "    prices = {}\n",
    "    for product in customer_orders:\n",
    "        valid_price = False\n",
    "        while not valid_price:\n",
    "            try:\n",
    "                price = float(input(f\"Enter the price of {product}: \"))\n",
    "                if price < 0:\n",
    "                    raise ValueError(\"Price cannot be negative. Please enter a valid price.\")\n",
    "                prices[product] = price\n",
    "                valid_price = True\n",
    "            except ValueError as e:\n",
    "                print(f\"Invalid input: {e}. Please try again.\")\n",
    "    total_price = sum(prices[product] for product in customer_orders)\n",
    "    return total_price"
   ]
  },
  {
   "cell_type": "code",
   "execution_count": 6,
   "metadata": {},
   "outputs": [],
   "source": [
    "def get_customer_orders(inventory):\n",
    "    valid_orders = False\n",
    "    while not valid_orders:\n",
    "        try:\n",
    "            num_orders = int(input(\"Enter the number of customer orders: \"))\n",
    "            if num_orders < 0:\n",
    "                raise ValueError(\"Number of orders cannot be negative.\")\n",
    "            valid_orders = True\n",
    "        except ValueError as e:\n",
    "            print(f\"Invalid input: {e}. Please enter a valid number.\")\n",
    "\n",
    "    customer_orders = {}\n",
    "    for _ in range(num_orders):\n",
    "        valid_product = False\n",
    "        while not valid_product:\n",
    "            product = input(\"Enter the name of a product that a customer wants to order: \").strip()\n",
    "            if product not in inventory:\n",
    "                print(f\"Error: {product} is not available in the inventory. Please enter a valid product.\")\n",
    "            elif inventory[product] <= 0:\n",
    "                print(f\"Error: {product} is out of stock. Please choose another product.\")\n",
    "            else:\n",
    "                customer_orders[product] = customer_orders.get(product, 0) + 1\n",
    "                valid_product = True\n",
    "\n",
    "    return customer_orders"
   ]
  },
  {
   "cell_type": "code",
   "execution_count": null,
   "metadata": {},
   "outputs": [],
   "source": [
    "if __name__ == \"__main__\":\n",
    "    products_list = [\"apple\", \"banana\", \"orange\"]\n",
    "    inventory = {\"apple\": 5, \"banana\": 3, \"orange\": 0}  \n",
    "\n",
    "    customer_orders = get_customer_orders(inventory)\n",
    "    print(\"\\nCustomer Orders:\", customer_orders)\n",
    "\n",
    "    total_price = calculate_total_price(customer_orders)\n",
    "    print(f\"\\nTotal Price: {total_price:.2f}\")"
   ]
  },
  {
   "cell_type": "code",
   "execution_count": null,
   "metadata": {},
   "outputs": [],
   "source": []
  }
 ],
 "metadata": {
  "kernelspec": {
   "display_name": "ironhack",
   "language": "python",
   "name": "python3"
  },
  "language_info": {
   "codemirror_mode": {
    "name": "ipython",
    "version": 3
   },
   "file_extension": ".py",
   "mimetype": "text/x-python",
   "name": "python",
   "nbconvert_exporter": "python",
   "pygments_lexer": "ipython3",
   "version": "3.12.5"
  }
 },
 "nbformat": 4,
 "nbformat_minor": 2
}
